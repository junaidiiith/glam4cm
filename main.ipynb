{
 "cells": [
  {
   "cell_type": "markdown",
   "metadata": {},
   "source": [
    "#### Dataset Creation"
   ]
  },
  {
   "cell_type": "code",
   "execution_count": 8,
   "metadata": {},
   "outputs": [
    {
     "name": "stdout",
     "output_type": "stream",
     "text": [
      "Loading modelset from pickle\n",
      "Loaded modelset with 2539 graphs\n",
      "Loaded modelset with 2539 graphs\n"
     ]
    }
   ],
   "source": [
    "from utils import set_seed\n",
    "from data_loading.models_dataset import ArchiMateModelDataset, EcoreModelDataset\n",
    "\n",
    "set_seed(42)\n",
    "\n",
    "config_params = dict(\n",
    "    # reload=True,\n",
    "    min_enr = -1,\n",
    "    min_edges = 10,\n",
    "    # language = 'en',\n",
    ")\n",
    "dataset_name = 'eamodelset'\n",
    "\n",
    "dataset = EcoreModelDataset('modelset', **config_params)"
   ]
  },
  {
   "cell_type": "code",
   "execution_count": 15,
   "metadata": {},
   "outputs": [
    {
     "name": "stdout",
     "output_type": "stream",
     "text": [
      "Loading graph dataset\n",
      "Using tokenizer\n",
      "Loading tokenizer for bert-base-uncased\n"
     ]
    },
    {
     "data": {
      "application/vnd.jupyter.widget-view+json": {
       "model_id": "2e2f2aab4cdb46ecb5404d0a76f62274",
       "version_major": 2,
       "version_minor": 0
      },
      "text/plain": [
       "Embeddings graphs:   0%|          | 0/2539 [00:00<?, ?it/s]"
      ]
     },
     "metadata": {},
     "output_type": "display_data"
    },
    {
     "name": "stderr",
     "output_type": "stream",
     "text": [
      "/home/sali/Miniconda/miniconda3/envs/ML/lib/python3.10/site-packages/torch_geometric/transforms/random_link_split.py:245: UserWarning: There are not enough negative edges to satisfy the provided sampling ratio. The ratio will be adjusted to 0.88.\n",
      "  warnings.warn(\n",
      "/home/sali/Miniconda/miniconda3/envs/ML/lib/python3.10/site-packages/torch_geometric/transforms/random_link_split.py:245: UserWarning: There are not enough negative edges to satisfy the provided sampling ratio. The ratio will be adjusted to 0.67.\n",
      "  warnings.warn(\n",
      "/home/sali/Miniconda/miniconda3/envs/ML/lib/python3.10/site-packages/torch_geometric/transforms/random_link_split.py:245: UserWarning: There are not enough negative edges to satisfy the provided sampling ratio. The ratio will be adjusted to 0.20.\n",
      "  warnings.warn(\n",
      "/home/sali/Miniconda/miniconda3/envs/ML/lib/python3.10/site-packages/torch_geometric/transforms/random_link_split.py:245: UserWarning: There are not enough negative edges to satisfy the provided sampling ratio. The ratio will be adjusted to 0.25.\n",
      "  warnings.warn(\n",
      "/home/sali/Miniconda/miniconda3/envs/ML/lib/python3.10/site-packages/torch_geometric/transforms/random_link_split.py:245: UserWarning: There are not enough negative edges to satisfy the provided sampling ratio. The ratio will be adjusted to 0.50.\n",
      "  warnings.warn(\n",
      "/home/sali/Miniconda/miniconda3/envs/ML/lib/python3.10/site-packages/torch_geometric/transforms/random_link_split.py:245: UserWarning: There are not enough negative edges to satisfy the provided sampling ratio. The ratio will be adjusted to 0.58.\n",
      "  warnings.warn(\n",
      "/home/sali/Miniconda/miniconda3/envs/ML/lib/python3.10/site-packages/torch_geometric/transforms/random_link_split.py:245: UserWarning: There are not enough negative edges to satisfy the provided sampling ratio. The ratio will be adjusted to 0.76.\n",
      "  warnings.warn(\n"
     ]
    },
    {
     "data": {
      "application/vnd.jupyter.widget-view+json": {
       "model_id": "b0db5640100c42c2a4a3365845f973a1",
       "version_major": 2,
       "version_minor": 0
      },
      "text/plain": [
       "Creating graphs:   0%|          | 0/2539 [00:00<?, ?it/s]"
      ]
     },
     "metadata": {},
     "output_type": "display_data"
    },
    {
     "name": "stdout",
     "output_type": "stream",
     "text": [
      "[False  True]\n",
      "Setting num_nodes_ abstract 2\n",
      "Edge Classes:  ['containment' 'reference' 'supertype']\n"
     ]
    },
    {
     "data": {
      "application/vnd.jupyter.widget-view+json": {
       "model_id": "65afc20c1b9543d1a577dd1da2ed936e",
       "version_major": 2,
       "version_minor": 0
      },
      "text/plain": [
       "Validating edge classes:   0%|          | 0/2539 [00:00<?, ?it/s]"
      ]
     },
     "metadata": {},
     "output_type": "display_data"
    },
    {
     "name": "stdout",
     "output_type": "stream",
     "text": [
      "Train classes: {0, 1, 2}\n",
      "Test classes: {0, 1, 2}\n",
      "Number of classes in training set: 3\n",
      "Number of classes in test set: 3\n",
      "Train edge classes: {0: 45919, 2: 79198, 1: 34358}\n",
      "Test edge classes: {2: 19247, 0: 11110, 1: 8278}\n",
      "Loaded graph dataset\n"
     ]
    },
    {
     "data": {
      "application/vnd.jupyter.widget-view+json": {
       "model_id": "8f3bec6a85fa4c48ab82797b1349d701",
       "version_major": 2,
       "version_minor": 0
      },
      "text/plain": [
       "Getting edge_cls data:   0%|          | 0/2539 [00:00<?, ?it/s]"
      ]
     },
     "metadata": {},
     "output_type": "display_data"
    },
    {
     "name": "stdout",
     "output_type": "stream",
     "text": [
      "Train Texts:  ['<node_label>Header Region()<edge_begin><edge_end><node_label>Logo()', '<node_label>Form(name, method)<edge_begin><edge_end><node_label>Block Level Component()', '<node_label>Document(title, index, file Name)<edge_begin><edge_end><node_label>Block Level Component()', '<node_label>Document(title, index, file Name)<edge_begin><edge_end><node_label>List()', '<node_label>Tab(title)<edge_begin><edge_end><node_label>Form(name, method)', '<node_label>Contextual Navigation Region()<edge_begin><edge_end><node_label>Object Component(align, width, height, border, hspace, vspace)', '<node_label>Datepicker(show Button Image, date Format, locale, number Months To Show, show Month Menu, show Year Menu, show Week Of Year, show Button Close Panel)<edge_begin><edge_end><node_label>Text Field(char Width, max Chars, readonly, password)', '<node_label>Footer Region()<edge_begin><edge_end><node_label>Object Component(align, width, height, border, hspace, vspace)', '<node_label>Datepicker(show Button Image, date Format, locale, number Months To Show, show Month Menu, show Year Menu, show Week Of Year, show Button Close Panel)<edge_begin><edge_end><node_label>Rich Widget()', '<node_label>Div(align)<edge_begin><edge_end><node_label>Identifiable Component(id)', '<node_label>Portal(name, documents Extension)<edge_begin><edge_end><node_label>Search Region()', '<node_label>Link(title)<edge_begin><edge_end><node_label>Identifiable Component(id)', '<node_label>Block Level Component()<edge_begin><edge_end><node_label>Inline Component(text)', '<node_label>Div(align)<edge_begin><edge_end><node_label>Rich Widget()', '<node_label>Form Control(name, value)<edge_begin><edge_end><node_label>Number Value Constraint()', '<node_label>Label(text, format)<edge_begin><edge_end><node_label>Classifiable Component(class)', '<node_label>Fieldset(legend, legend Align, legend Format)<edge_begin><edge_end><node_label>Classifiable Component(class)', '<node_label>Link(title)<edge_begin><edge_end><node_label>Classifiable Component(class)', '<node_label>Line Break()<edge_begin><edge_end><node_label>Identifiable Component(id)', '<node_label>Tab(title)<edge_begin><edge_end><node_label>Object Component(align, width, height, border, hspace, vspace)']\n",
      "Test Texts:  ['<node_label>Paragraph(align)<edge_begin><edge_end><node_label>Identifiable Component(id)', '<node_label>Link(title)<edge_begin><edge_end><node_label>Event Component()', '<node_label>Check Group(orientation)<edge_begin><edge_end><node_label>Checkbox(checked)', '<node_label>Header Region()<edge_begin><edge_end><node_label>Navigation Region(orientation)', '<node_label>Unordered List(type)<edge_begin><edge_end><node_label>List Item(text, format)', '<node_label>Form Control(name, value)<edge_begin><edge_end><node_label>Label(text, format)', '<node_label>Rich Widget()<edge_begin><edge_end><node_label>Classifiable Component(class)', '<node_label>Section(title)<edge_begin><edge_end><node_label>Inline Component(text)', '<node_label>Section(title)<edge_begin><edge_end><node_label>Line Break()', '<node_label>Phrase Element(phrase Type, title)<edge_begin><edge_end><node_label>Classifiable Component(class)', '<node_label>Document(title, index, file Name)<edge_begin><edge_end><node_label>Event Component()', '<node_label>Heading(level)<edge_begin><edge_end><node_label>Identifiable Component(id)', '<node_label>Input File(char Width, max Chars, readonly)<edge_begin><edge_end><node_label>Form Control(name, value)', '<node_label>Header Region()<edge_begin><edge_end><node_label>Line Break()', '<node_label>Form(name, method)<edge_begin><edge_end><node_label>Identifiable Component(id)', '<node_label>Label(text, format)<edge_begin><edge_end><node_label>Event(type)', '<node_label>Check Group(orientation)<edge_begin><edge_end><node_label>Label(text, format)', '<node_label>Message Dialog(title, message, modal, auto Open, resizable, height, min Height Resize, max Height Resize, width, min Width Resize, max Width Resize)<edge_begin><edge_end><node_label>Rich Widget()', '<node_label>Heading(level)<edge_begin><edge_end><node_label>Classifiable Component(class)', '<node_label>Document(title, index, file Name)<edge_begin><edge_end><node_label>Inline Component(text)']\n"
     ]
    }
   ],
   "source": [
    "from data_loading.graph_dataset import GraphEdgeDataset\n",
    "import utils\n",
    "\n",
    "utils.set_seed(42)\n",
    "\n",
    "graph_data_params = dict(\n",
    "    reload=True,\n",
    "    test_ratio=0.2,\n",
    "    add_negative_train_samples=True,\n",
    "    neg_sampling_ratio=1,\n",
    "    distance=0,\n",
    "    random_embed_dim=1,\n",
    "    use_attributes=True,\n",
    "    use_edge_label=True,\n",
    "    use_edge_types=True,\n",
    "    use_node_types=True,\n",
    "    use_special_tokens=True,\n",
    "    # use_embeddings=True,\n",
    "    # embed_model_name='bert-base-cased',\n",
    "    # ckpt='results/eamodelset/lp/10_att_0_nt_0/checkpoint-177600',\n",
    "    limit = -1,\n",
    ")\n",
    "\n",
    "print(\"Loading graph dataset\")\n",
    "graph_edge_dataset = GraphEdgeDataset(dataset, **graph_data_params)\n",
    "print(\"Loaded graph dataset\")\n",
    "\n",
    "texts = graph_edge_dataset.get_link_prediction_texts()"
   ]
  },
  {
   "cell_type": "code",
   "execution_count": 16,
   "metadata": {},
   "outputs": [
    {
     "name": "stdout",
     "output_type": "stream",
     "text": [
      "Loading graph dataset\n",
      "Using tokenizer\n",
      "Loading tokenizer for bert-base-uncased\n"
     ]
    },
    {
     "data": {
      "application/vnd.jupyter.widget-view+json": {
       "model_id": "b8c23ff1bd8c459eb2a4ba4b80142255",
       "version_major": 2,
       "version_minor": 0
      },
      "text/plain": [
       "Creating Embeddings:   0%|          | 0/2539 [00:00<?, ?it/s]"
      ]
     },
     "metadata": {},
     "output_type": "display_data"
    },
    {
     "data": {
      "application/vnd.jupyter.widget-view+json": {
       "model_id": "49de811313474aeea8a25f7b68cebea9",
       "version_major": 2,
       "version_minor": 0
      },
      "text/plain": [
       "Creating graphs:   0%|          | 0/2539 [00:00<?, ?it/s]"
      ]
     },
     "metadata": {},
     "output_type": "display_data"
    },
    {
     "name": "stdout",
     "output_type": "stream",
     "text": [
      "[False  True]\n",
      "Setting num_nodes_ abstract 2\n"
     ]
    },
    {
     "data": {
      "application/vnd.jupyter.widget-view+json": {
       "model_id": "44b869d184ad41c2851eb84d159d13b5",
       "version_major": 2,
       "version_minor": 0
      },
      "text/plain": [
       "Validating node classes:   0%|          | 0/2539 [00:00<?, ?it/s]"
      ]
     },
     "metadata": {},
     "output_type": "display_data"
    },
    {
     "name": "stdout",
     "output_type": "stream",
     "text": [
      "Train classes: {0, 1}\n",
      "Test classes: {0, 1}\n",
      "Number of classes in training set: 2\n",
      "Number of classes in test set: 2\n",
      "Edge Classes:  ['containment' 'reference' 'supertype']\n",
      "Node label: abstract\n",
      "Train Node classes: {0: 71254, 1: 22904}\n",
      "Test Node classes: {1: 6342, 0: 18484}\n",
      "Loaded graph dataset\n"
     ]
    },
    {
     "data": {
      "application/vnd.jupyter.widget-view+json": {
       "model_id": "6cf52604689148fe8b1a76de02f7e9ab",
       "version_major": 2,
       "version_minor": 0
      },
      "text/plain": [
       "Getting node classification data:   0%|          | 0/2539 [00:00<?, ?it/s]"
      ]
     },
     "metadata": {},
     "output_type": "display_data"
    },
    {
     "name": "stdout",
     "output_type": "stream",
     "text": [
      "Tokenizing data\n",
      "['<node_label>Place Ext(probability, is Start) <edge_begin>supertype<edge_end> <node_label>Place(token, final Marking)', '<node_label>inout()', '<node_label>Arc(weight) <edge_begin>target reference<edge_end> <node_label>Node(name, type)', '<node_label>Arc To Place() <edge_begin>supertype<edge_end> <node_label>Arc(weight)', '<node_label>Transition() <edge_begin>supertype<edge_end> <node_label>Node(name, type)', '<node_label>Arc To Transition Ext(probability) <edge_begin>supertype<edge_end> <node_label>Arc To Transition()', '<node_label>Marking() <edge_begin>places containment<edge_end> <node_label>Ref Marked Place(token)', '<node_label>Annotation(text)', '<node_label>Arc To Transition() <edge_begin>supertype<edge_end> <node_label>Arc(weight)', '<node_label>Transition Ext(probability, min Time, cost, max Time) <edge_begin><edge_end> <node_label>Transition()']\n",
      "['<node_label>Place(token, final Marking) <edge_begin>supertype<edge_end> <node_label>Node(name, type)', '<node_label>Pt Net() <edge_begin>places containment<edge_end> <node_label>Place(token, final Marking)\\n<node_label>Pt Net() <edge_begin>transitions containment<edge_end> <node_label>Transition()\\n<node_label>Pt Net() <edge_begin>final Marking containment<edge_end> <node_label>Marking()\\n<node_label>Pt Net() <edge_begin>annotation<edge_end> <node_label>Annotation(text)\\n<node_label>Pt Net() <edge_begin>arcs containment<edge_end> <node_label>Arc(weight)', '<node_label>Place Reference() <edge_begin>place<edge_end> <node_label>Place(token, final Marking)', '<node_label>Arc To Place Ext(probability) <edge_begin>supertype<edge_end> <node_label>Arc To Place()', '<node_label>Initial State() <edge_begin>supertype<edge_end> <node_label>State(label, id)', '<node_label>Declaration()', '<node_label>Graph()', '<node_label>Snippet(line End, column Start, column End, line Start) <edge_begin>supertype<edge_end> <node_label>Graph Node()\\n<node_label>Snippet(line End, column Start, column End, line Start) <edge_begin><edge_end> <node_label>Contents(contents)\\n<node_label>Snippet(line End, column Start, column End, line Start) <edge_begin>resource reference<edge_end> <node_label>Resource()', '<node_label>Sink(cwes) <edge_begin><edge_end> <node_label>Node()\\n<node_label>Sink(cwes) <edge_begin>sinks reference<edge_end> <node_label>Sinks()', '<node_label>Controllers() <edge_begin>application reference<edge_end> <node_label>Application(internal URL, external URL)\\n<node_label>Controllers() <edge_begin>controllers containment<edge_end> <node_label>Controller()']\n",
      "94158\n",
      "94158\n",
      "24826\n",
      "24826\n"
     ]
    }
   ],
   "source": [
    "from data_loading.graph_dataset import GraphNodeDataset\n",
    "\n",
    "graph_data_params = dict(\n",
    "    reload=True,\n",
    "    test_ratio=0.2,\n",
    "    distance=1,\n",
    "    random_embed_dim=1,\n",
    "    use_attributes=True,\n",
    "    use_edge_label=True,\n",
    "    use_edge_types=True,\n",
    "    use_special_tokens=True,\n",
    "    # use_embeddings=True,\n",
    "    # embed_model_name='bert-base-cased',\n",
    "    # ckpt='results/eamodelset/lp/10_att_0_nt_0/checkpoint-177600',\n",
    "    limit = -1,\n",
    ")\n",
    "\n",
    "\n",
    "\n",
    "print(\"Loading graph dataset\")\n",
    "graph_node_dataset = GraphNodeDataset(dataset, **graph_data_params)\n",
    "print(\"Loaded graph dataset\")\n",
    "data = graph_node_dataset.get_node_classification_texts()"
   ]
  },
  {
   "cell_type": "code",
   "execution_count": 20,
   "metadata": {},
   "outputs": [],
   "source": [
    "import networkx as nx\n",
    "\n",
    "G = nx.Graph()\n",
    "G.add_node(1, label='A')\n",
    "G.add_node(2, label='B')\n",
    "G.add_node(3, label='C')\n",
    "G.add_node(4, label='D')\n",
    "G.add_node(5, label='E')\n",
    "G.add_node(6, label='F')\n",
    "\n",
    "G.add_edge(1, 2, label='1')\n",
    "G.add_edge(1, 3, label='2')\n",
    "G.add_edge(1, 6, label='5')\n",
    "G.add_edge(2, 3, label='6')\n",
    "G.add_edge(2, 5, label='8')\n",
    "G.add_edge(2, 6, label='9')\n",
    "G.add_edge(3, 4, label='10')\n",
    "G.add_edge(3, 5, label='11')\n",
    "G.add_edge(4, 5, label='13')\n",
    "G.add_edge(4, 6, label='14')\n",
    "G.add_edge(5, 6, label='15')\n"
   ]
  },
  {
   "cell_type": "code",
   "execution_count": 21,
   "metadata": {},
   "outputs": [
    {
     "name": "stdout",
     "output_type": "stream",
     "text": [
      "[6, 3, 5, 4] [1, 2]\n"
     ]
    },
    {
     "data": {
      "text/plain": [
       "NodeDataView({1: {'label': 'A', 'masked': 1}, 2: {'label': 'B', 'masked': 1}, 3: {'label': 'C', 'masked': 0}, 4: {'label': 'D', 'masked': 0}, 5: {'label': 'E', 'masked': 0}, 6: {'label': 'F', 'masked': 0}})"
      ]
     },
     "execution_count": 21,
     "metadata": {},
     "output_type": "execute_result"
    }
   ],
   "source": [
    "from sklearn.model_selection import train_test_split\n",
    "\n",
    "\n",
    "train_nodes, test_nodes = train_test_split(\n",
    "\tlist(G.nodes), \n",
    "\ttest_size=0.2, \n",
    "\tshuffle=True, \n",
    "\trandom_state=42\n",
    ")\n",
    "\n",
    "print(train_nodes, test_nodes)\n",
    "nx.set_node_attributes(G, {node: 0 for node in train_nodes}, 'masked')\n",
    "nx.set_node_attributes(G, {node: 1 for node in test_nodes}, 'masked')\n",
    "G.nodes(data=True)"
   ]
  },
  {
   "cell_type": "code",
   "execution_count": 22,
   "metadata": {},
   "outputs": [
    {
     "data": {
      "text/plain": [
       "EdgeDataView([(1, 2, {'label': '1', 'masked': False}), (1, 3, {'label': '2', 'masked': False}), (1, 6, {'label': '5', 'masked': False}), (2, 3, {'label': '6', 'masked': False}), (2, 5, {'label': '8', 'masked': False}), (2, 6, {'label': '9', 'masked': True}), (3, 4, {'label': '10', 'masked': False}), (3, 5, {'label': '11', 'masked': True}), (4, 5, {'label': '13', 'masked': False}), (4, 6, {'label': '14', 'masked': False}), (5, 6, {'label': '15', 'masked': False})])"
      ]
     },
     "execution_count": 22,
     "metadata": {},
     "output_type": "execute_result"
    }
   ],
   "source": [
    "from torch_geometric.transforms import RandomLinkSplit\n",
    "import torch\n",
    "from data_loading.data import GraphData\n",
    "import numpy as np\n",
    "\n",
    "edge_index = np.array(G.edges()).T\n",
    "transform = RandomLinkSplit(\n",
    "\tnum_val=0, \n",
    "\tnum_test=0.2, \n",
    "\tadd_negative_train_samples=True,\n",
    "\tneg_sampling_ratio=1,\n",
    "\tsplit_labels=True\n",
    ")\n",
    "\n",
    "train_data, _, test_data = transform(GraphData(\n",
    "\tedge_index=torch.tensor(edge_index), \n",
    "\tnum_nodes=G.number_of_nodes()\n",
    "))\n",
    "nx.set_edge_attributes(G, {tuple(edge): False for edge in train_data.pos_edge_label_index.T.tolist()}, 'masked')\n",
    "nx.set_edge_attributes(G, {tuple(edge): True for edge in test_data.pos_edge_label_index.T.tolist()}, 'masked')\n",
    "G.edges(data=True)"
   ]
  },
  {
   "cell_type": "code",
   "execution_count": null,
   "metadata": {},
   "outputs": [],
   "source": []
  }
 ],
 "metadata": {
  "kernelspec": {
   "display_name": "ML",
   "language": "python",
   "name": "python3"
  },
  "language_info": {
   "codemirror_mode": {
    "name": "ipython",
    "version": 3
   },
   "file_extension": ".py",
   "mimetype": "text/x-python",
   "name": "python",
   "nbconvert_exporter": "python",
   "pygments_lexer": "ipython3",
   "version": "3.10.14"
  }
 },
 "nbformat": 4,
 "nbformat_minor": 2
}
