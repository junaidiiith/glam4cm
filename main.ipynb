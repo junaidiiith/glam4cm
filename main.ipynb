{
 "cells": [
  {
   "cell_type": "markdown",
   "metadata": {},
   "source": [
    "#### Dataset Creation"
   ]
  },
  {
   "cell_type": "code",
   "execution_count": 1,
   "metadata": {},
   "outputs": [
    {
     "data": {
      "application/vnd.jupyter.widget-view+json": {
       "model_id": "f9ba9eace68f4845a0057af428400ec6",
       "version_major": 2,
       "version_minor": 0
      },
      "text/plain": [
       "Loading Ecore_555:   0%|          | 0/548 [00:00<?, ?it/s]"
      ]
     },
     "metadata": {},
     "output_type": "display_data"
    },
    {
     "name": "stdout",
     "output_type": "stream",
     "text": [
      "Loaded Total ecore_555 with 548 graphs\n",
      "Filtering...\n",
      "Saving ecore_555 to pickle\n",
      "Saved ecore_555 to pickle\n",
      "Loaded ecore_555 with 548 graphs\n"
     ]
    }
   ],
   "source": [
    "from data_loading.models_dataset import EcoreModelDataset, ArchiMateModelDataset\n",
    "\n",
    "config_params = dict(\n",
    "    min_edges = -1,\n",
    "    reload=True,\n",
    ")\n",
    "ecore_model_dataset = EcoreModelDataset('ecore_555', **config_params)\n",
    "# ecore_model_dataset = EcoreModelDataset('mar-ecore-github', reload=False, **config_params)\n",
    "# ecore_model_dataset = EcoreModelDataset('modelset', reload=False, **config_params)\n",
    "# eamodelset = ArchiMateModelDataset('eamodelset', **config_params)"
   ]
  },
  {
   "cell_type": "code",
   "execution_count": 2,
   "metadata": {},
   "outputs": [
    {
     "data": {
      "application/vnd.jupyter.widget-view+json": {
       "model_id": "b2395e10fa424953b99abd417c2f2f2b",
       "version_major": 2,
       "version_minor": 0
      },
      "text/plain": [
       "Loading Ecore_555:   0%|          | 0/548 [00:00<?, ?it/s]"
      ]
     },
     "metadata": {},
     "output_type": "display_data"
    },
    {
     "name": "stdout",
     "output_type": "stream",
     "text": [
      "Loaded Total ecore_555 with 548 graphs\n",
      "Filtering...\n",
      "Saving ecore_555 to pickle\n",
      "Saved ecore_555 to pickle\n",
      "Loaded ecore_555 with 444 graphs\n"
     ]
    }
   ],
   "source": [
    "from data_loading.models_dataset import EcoreModelDataset\n",
    "\n",
    "dataset_name = 'ecore_555'\n",
    "\n",
    "dataset = EcoreModelDataset(dataset_name, min_edges=10, reload=True)"
   ]
  },
  {
   "cell_type": "code",
   "execution_count": 3,
   "metadata": {},
   "outputs": [
    {
     "data": {
      "application/vnd.jupyter.widget-view+json": {
       "model_id": "c46baa7cbfdb4b1ab931f59125e79f46",
       "version_major": 2,
       "version_minor": 0
      },
      "text/plain": [
       "Creating graphs:   0%|          | 0/444 [00:00<?, ?it/s]"
      ]
     },
     "metadata": {},
     "output_type": "display_data"
    },
    {
     "data": {
      "application/vnd.jupyter.widget-view+json": {
       "model_id": "b371dd74362747f1a9aa7de4b5ccb113",
       "version_major": 2,
       "version_minor": 0
      },
      "text/plain": [
       "Processing graphs:   0%|          | 0/444 [00:00<?, ?it/s]"
      ]
     },
     "metadata": {},
     "output_type": "display_data"
    },
    {
     "name": "stdout",
     "output_type": "stream",
     "text": [
      "Node label: abstract\n",
      "Train Node classes: {0: 10577, 1: 3212}\n",
      "Test Node classes: {0: 2806, 1: 856}\n"
     ]
    }
   ],
   "source": [
    "from data_loading.graph_dataset import GraphNodeDataset\n",
    "\n",
    "\n",
    "graph_dataset = GraphNodeDataset(dataset)"
   ]
  },
  {
   "cell_type": "code",
   "execution_count": 4,
   "metadata": {},
   "outputs": [],
   "source": [
    "lm_dataset = graph_dataset.get_lm_graph_classification_data()"
   ]
  },
  {
   "cell_type": "code",
   "execution_count": 5,
   "metadata": {},
   "outputs": [],
   "source": [
    "from utils import set_seed\n",
    "\n",
    "\n",
    "set_seed(42)\n",
    "\n",
    "gnn_data = graph_dataset.get_gnn_graph_classification_data()"
   ]
  },
  {
   "cell_type": "code",
   "execution_count": 6,
   "metadata": {},
   "outputs": [
    {
     "data": {
      "text/plain": [
       "355"
      ]
     },
     "execution_count": 6,
     "metadata": {},
     "output_type": "execute_result"
    }
   ],
   "source": [
    "len(gnn_data['train'])"
   ]
  },
  {
   "cell_type": "code",
   "execution_count": 7,
   "metadata": {},
   "outputs": [],
   "source": [
    "set_seed(42)\n",
    "\n",
    "lm_data = graph_dataset.get_lm_graph_classification_data()\n"
   ]
  },
  {
   "cell_type": "code",
   "execution_count": 8,
   "metadata": {},
   "outputs": [],
   "source": [
    "gnn_y = [g.graph_label.item() for g in gnn_data['train']]"
   ]
  },
  {
   "cell_type": "code",
   "execution_count": 9,
   "metadata": {},
   "outputs": [],
   "source": [
    "lm_y = [l.item() for l in lm_data['train'][:]['labels']]"
   ]
  },
  {
   "cell_type": "code",
   "execution_count": 10,
   "metadata": {},
   "outputs": [
    {
     "name": "stdout",
     "output_type": "stream",
     "text": [
      "[7, 6, 4, 6, 6, 5, 5, 3, 7, 0, 4, 3, 4, 5, 4, 4, 4, 2, 1, 4, 6, 4, 5, 6, 0, 3, 7, 5, 6, 1, 1, 3, 5, 6, 5, 2, 6, 3, 4, 4, 6, 7, 4, 6, 5, 6, 6, 7, 2, 4, 3, 0, 4, 6, 6, 6, 1, 3, 3, 0, 6, 2, 6, 6, 4, 1, 2, 1, 5, 7, 5, 6, 2, 3, 3, 3, 6, 4, 3, 7, 1, 0, 1, 5, 6, 4, 6, 6, 5, 0, 1, 2, 6, 6, 0, 3, 6, 6, 4, 5, 6, 6, 6, 6, 6, 3, 2, 5, 6, 1, 4, 3, 0, 0, 6, 3, 6, 6, 3, 5, 4, 0, 3, 4, 6, 3, 6, 6, 6, 5, 6, 5, 5, 6, 4, 5, 5, 7, 4, 0, 0, 4, 6, 3, 3, 5, 6, 7, 5, 5, 3, 0, 6, 4, 6, 6, 6, 5, 3, 2, 0, 6, 3, 1, 5, 6, 1, 6, 7, 0, 1, 3, 4, 6, 6, 4, 1, 1, 5, 0, 3, 3, 7, 0, 5, 6, 4, 7, 6, 6, 1, 0, 5, 3, 3, 4, 5, 2, 6, 3, 3, 7, 5, 0, 4, 5, 7, 5, 6, 0, 5, 6, 4, 5, 6, 3, 0, 6, 5, 6, 0, 6, 3, 6, 4, 7, 3, 7, 1, 7, 6, 5, 3, 6, 6, 6, 5, 3, 0, 3, 3, 6, 3, 3, 2, 3, 6, 0, 6, 1, 4, 3, 2, 0, 0, 4, 6, 4, 4, 5, 3, 6, 4, 6, 0, 6, 4, 5, 6, 3, 1, 7, 2, 7, 3, 4, 6, 6, 0, 0, 6, 6, 1, 5, 3, 2, 6, 6, 3, 6, 0, 0, 4, 3, 6, 1, 6, 4, 0, 0, 3, 5, 3, 7, 3, 3, 6, 6, 6, 5, 4, 5, 6, 0, 6, 0, 5, 3, 0, 0, 3, 5, 4, 6, 3, 4, 1, 4, 2, 6, 6, 5, 3, 2, 7, 3, 5, 6, 6, 3, 3, 7, 0, 7, 6, 3, 6, 1, 1, 1, 6, 6, 6, 6, 6]\n"
     ]
    }
   ],
   "source": [
    "print(lm_y)"
   ]
  },
  {
   "cell_type": "code",
   "execution_count": 11,
   "metadata": {},
   "outputs": [
    {
     "data": {
      "text/plain": [
       "(355, 355)"
      ]
     },
     "execution_count": 11,
     "metadata": {},
     "output_type": "execute_result"
    }
   ],
   "source": [
    "len(gnn_y), len(lm_y)"
   ]
  },
  {
   "cell_type": "code",
   "execution_count": 12,
   "metadata": {},
   "outputs": [
    {
     "data": {
      "text/plain": [
       "True"
      ]
     },
     "execution_count": 12,
     "metadata": {},
     "output_type": "execute_result"
    }
   ],
   "source": [
    "lm_y == gnn_y"
   ]
  }
 ],
 "metadata": {
  "kernelspec": {
   "display_name": "VE",
   "language": "python",
   "name": "python3"
  },
  "language_info": {
   "codemirror_mode": {
    "name": "ipython",
    "version": 3
   },
   "file_extension": ".py",
   "mimetype": "text/x-python",
   "name": "python",
   "nbconvert_exporter": "python",
   "pygments_lexer": "ipython3",
   "version": "3.10.14"
  }
 },
 "nbformat": 4,
 "nbformat_minor": 2
}
