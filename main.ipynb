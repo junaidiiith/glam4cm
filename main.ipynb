{
 "cells": [
  {
   "cell_type": "markdown",
   "metadata": {},
   "source": [
    "#### Dataset Creation"
   ]
  },
  {
   "cell_type": "code",
   "execution_count": 1,
   "metadata": {},
   "outputs": [
    {
     "name": "stdout",
     "output_type": "stream",
     "text": [
      "Loading eamodelset from pickle\n",
      "Loaded eamodelset with 558 graphs\n",
      "Loaded eamodelset with 558 graphs\n",
      "Graphs: 558\n"
     ]
    }
   ],
   "source": [
    "from utils import set_seed\n",
    "from data_loading.models_dataset import ArchiMateModelDataset, EcoreModelDataset\n",
    "\n",
    "set_seed(42)\n",
    "\n",
    "config_params = dict(\n",
    "    # reload=True,\n",
    "    min_enr = -1,\n",
    "    min_edges = 10,\n",
    "    language = 'en',\n",
    ")\n",
    "dataset_name = 'eamodelset'\n",
    "\n",
    "dataset = ArchiMateModelDataset(dataset_name, **config_params)\n",
    "# dataset = EcoreModelDataset('modelset', **config_params)"
   ]
  },
  {
   "cell_type": "code",
   "execution_count": 2,
   "metadata": {},
   "outputs": [
    {
     "name": "stdout",
     "output_type": "stream",
     "text": [
      "Loading graph dataset\n",
      "Using tokenizer\n",
      "Loading tokenizer for bert-base-uncased\n"
     ]
    },
    {
     "data": {
      "application/vnd.jupyter.widget-view+json": {
       "model_id": "4ded36aca1774dd48ed9b1e4e8d52eb3",
       "version_major": 2,
       "version_minor": 0
      },
      "text/plain": [
       "Embeddings graphs:   0%|          | 0/558 [00:00<?, ?it/s]"
      ]
     },
     "metadata": {},
     "output_type": "display_data"
    },
    {
     "data": {
      "application/vnd.jupyter.widget-view+json": {
       "model_id": "34123a881d7a431bb280b92a5f0ee1c4",
       "version_major": 2,
       "version_minor": 0
      },
      "text/plain": [
       "Creating graphs:   0%|          | 0/558 [00:00<?, ?it/s]"
      ]
     },
     "metadata": {},
     "output_type": "display_data"
    },
    {
     "name": "stdout",
     "output_type": "stream",
     "text": [
      "['AndJunction' 'ApplicationCollaboration' 'ApplicationComponent'\n",
      " 'ApplicationEvent' 'ApplicationFunction' 'ApplicationInteraction'\n",
      " 'ApplicationInterface' 'ApplicationProcess' 'ApplicationService'\n",
      " 'Artifact' 'Assessment' 'BusinessActor' 'BusinessCollaboration'\n",
      " 'BusinessEvent' 'BusinessFunction' 'BusinessInteraction'\n",
      " 'BusinessInterface' 'BusinessObject' 'BusinessProcess' 'BusinessRole'\n",
      " 'BusinessService' 'Capability' 'CommunicationNetwork' 'Constraint'\n",
      " 'Contract' 'CourseOfAction' 'DataObject' 'Deliverable' 'Device'\n",
      " 'DistributionNetwork' 'Driver' 'Equipment' 'Facility' 'Gap' 'Goal'\n",
      " 'Grouping' 'ImplementationEvent' 'Junction' 'Location' 'Material'\n",
      " 'Meaning' 'Node' 'OrJunction' 'Outcome' 'Path' 'Plateau' 'Principle'\n",
      " 'Product' 'Representation' 'Requirement' 'Resource' 'Stakeholder'\n",
      " 'SystemSoftware' 'TechnologyCollaboration' 'TechnologyEvent'\n",
      " 'TechnologyFunction' 'TechnologyInteraction' 'TechnologyInterface'\n",
      " 'TechnologyProcess' 'TechnologyService' 'Value' 'ValueStream'\n",
      " 'WorkPackage' None]\n",
      "Setting num_nodes_ type 63\n",
      "['application' 'business' 'implementation_migration' 'motivation' 'other'\n",
      " 'strategy' 'technology' None]\n",
      "Setting num_nodes_ layer 7\n",
      "Edge Classes:  ['Access' 'Aggregation' 'Assignment' 'Association' 'Composition' 'Flow'\n",
      " 'Influence' 'Realization' 'Serving' 'Specialization' 'Triggering']\n"
     ]
    },
    {
     "data": {
      "application/vnd.jupyter.widget-view+json": {
       "model_id": "aaafd724ba2144ec9f25fd5a06c2a464",
       "version_major": 2,
       "version_minor": 0
      },
      "text/plain": [
       "Validating edge classes:   0%|          | 0/558 [00:00<?, ?it/s]"
      ]
     },
     "metadata": {},
     "output_type": "display_data"
    },
    {
     "name": "stdout",
     "output_type": "stream",
     "text": [
      "Train classes: {0, 1, 2, 3, 4, 5, 6, 7, 8, 9, 10}\n",
      "Test classes: {0, 1, 2, 3, 4, 5, 6, 7, 8, 9, 10}\n",
      "Number of classes in training set: 11\n",
      "Number of classes in test set: 11\n",
      "Train edge classes: {4: 12829, 7: 7122, 8: 5405, 2: 5711, 3: 7522, 5: 4441, 1: 3517, 0: 3948, 10: 4429, 9: 1192, 6: 686}\n",
      "Test edge classes: {7: 1751, 4: 3063, 3: 1827, 5: 1021, 1: 881, 0: 1019, 9: 314, 2: 1450, 10: 1068, 6: 177, 8: 1352}\n",
      "Loaded graph dataset\n"
     ]
    },
    {
     "data": {
      "application/vnd.jupyter.widget-view+json": {
       "model_id": "fd214f2547ae42499112d1858453cede",
       "version_major": 2,
       "version_minor": 0
      },
      "text/plain": [
       "Getting edge_cls data:   0%|          | 0/558 [00:00<?, ?it/s]"
      ]
     },
     "metadata": {},
     "output_type": "display_data"
    },
    {
     "name": "stdout",
     "output_type": "stream",
     "text": [
      "Train Texts:  ['<node_label>PASS<edge_begin><edge_end><node_label>European Front office', '<node_label>Merchant portal data exposure<edge_begin><edge_end><node_label>MP Reconciliation status preparation', '<node_label>Download Acquiring Transaction of a merchant user<edge_begin><edge_end><node_label>Send Acq data access request to data storage location', '<node_label>c IAM<edge_begin><edge_end><node_label>Broadcast Merchant data to platforms', '<node_label>Create contract hierarchies<edge_begin><edge_end><node_label>Create PASS merchant hierarchy', '<node_label>Activate existing merchant for reconciliation<edge_begin><edge_end><node_label>Update contract hierarchies for reconciliation', '<node_label>c IAM<edge_begin><edge_end><node_label>Enable Acceptance and Acquiring data access in Acceptance applications', '<node_label>Transaction report (Acc & Acquiring)<edge_begin><edge_end><node_label>Reconciliation engine', '<node_label>Merchant Portal<edge_begin><edge_end><node_label>e Com Acc (WLOP)', '<node_label>Data Platform<edge_begin><edge_end><node_label>Ingestion', '<node_label>Merchant Provisioning<edge_begin><edge_end><node_label>Broadcast Merchant data to platforms', '<node_label>Reconcile e Com Acceptance and Acquiring transactions<edge_begin><edge_end><node_label>Decide on reconciliation status', '<node_label>Data Platform<edge_begin><edge_end><node_label>Merchant portal data exposure', '<node_label>Merchant portal data exposure<edge_begin><edge_end><node_label>MP e Com data extraction', '<node_label>Merchant users boarding<edge_begin><edge_end><node_label>Activate existing merchant for reconciliation', '<node_label>Ingestion<edge_begin><edge_end><node_label>e P2 data ingestion', '<node_label>Merchant Portal<edge_begin><edge_end><node_label>Transaction report (Acc & Acquiring)', '<node_label>Reconcile e Com Acceptance and Acquiring transactions<edge_begin><edge_end><node_label>Compare Acquiring to acceptance transaction lifecycle status', '<node_label>MEPO<edge_begin><edge_end><node_label>Create contract hierarchies', '<node_label>PASS<edge_begin><edge_end><node_label>Settlements']\n",
      "Test Texts:  ['<node_label>MEON<edge_begin><edge_end><node_label>Create contract hierarchies', '<node_label>Download Acquiring Transaction of a merchant user<edge_begin><edge_end><node_label>Store Acquiring transaction data', '<node_label>MEON<edge_begin><edge_end><node_label>Broadcast Merchant data to platforms', '<node_label>WLOP<edge_begin><edge_end><node_label>WLOP Transaction d B', '<node_label>Ingestion<edge_begin><edge_end><node_label>WLOP data ingestion', '<node_label>Merchant portal data exposure<edge_begin><edge_end><node_label>MP Acc data extraction', '<node_label>Merchant portal data exposure<edge_begin><edge_end><node_label>MP in Store acc data extraction', '<node_label>Update contract hierarchies for reconciliation<edge_begin><edge_end><node_label>Create a common merchant ID', '<node_label>Merchant portal data exposure<edge_begin><edge_end><node_label>MP PASS data extraction', '<node_label>Activate existing merchant for reconciliation<edge_begin><edge_end><node_label>Create a common merchant ID', '<node_label>entity 6<edge_begin><edge_end><node_label>aggregate 6', '<node_label>aggregate 5<edge_begin><edge_end><node_label>aggregate 6', '<node_label>Bounded context 1<edge_begin><edge_end><node_label>service 1', '<node_label>entity 3<edge_begin><edge_end><node_label>entity 2', '<node_label>entity 3<edge_begin><edge_end><node_label>aggregate 3', '<node_label>entity 3<edge_begin><edge_end><node_label>entity 5', '<node_label>aggregate 3<edge_begin><edge_end><node_label>service 1', '<node_label>Bounded context 1<edge_begin><edge_end><node_label>core domain (subdomain)', '<node_label>Bounded context 1<edge_begin><edge_end><node_label>team 2 (low priority)', '<node_label>Claim Management Services<edge_begin><edge_end><node_label>Claim received']\n"
     ]
    }
   ],
   "source": [
    "from data_loading.graph_dataset import GraphEdgeDataset\n",
    "import utils\n",
    "\n",
    "utils.set_seed(42)\n",
    "\n",
    "graph_data_params = dict(\n",
    "    reload=True,\n",
    "    test_ratio=0.2,\n",
    "    add_negative_train_samples=True,\n",
    "    neg_sampling_ratio=1,\n",
    "    distance=0,\n",
    "    random_embed_dim=1,\n",
    "    use_attributes=True,\n",
    "    use_edge_label=True,\n",
    "    use_edge_types=True,\n",
    "    use_node_types=True,\n",
    "    use_special_tokens=True,\n",
    "    # use_embeddings=True,\n",
    "    # embed_model_name='bert-base-cased',\n",
    "    # ckpt='results/eamodelset/lp/10_att_0_nt_0/checkpoint-177600',\n",
    "    limit = -1,\n",
    ")\n",
    "\n",
    "print(\"Loading graph dataset\")\n",
    "graph_edge_dataset = GraphEdgeDataset(dataset, **graph_data_params)\n",
    "print(\"Loaded graph dataset\")\n",
    "\n",
    "texts = graph_edge_dataset.get_link_prediction_texts()"
   ]
  },
  {
   "cell_type": "code",
   "execution_count": null,
   "metadata": {},
   "outputs": [
    {
     "name": "stdout",
     "output_type": "stream",
     "text": [
      "Loading graph dataset\n",
      "Using tokenizer\n",
      "Loading tokenizer for bert-base-uncased\n"
     ]
    },
    {
     "data": {
      "application/vnd.jupyter.widget-view+json": {
       "model_id": "ec46fc4c757549cfaaa6a7d92daa8e97",
       "version_major": 2,
       "version_minor": 0
      },
      "text/plain": [
       "Creating Embeddings:   0%|          | 0/20 [00:00<?, ?it/s]"
      ]
     },
     "metadata": {},
     "output_type": "display_data"
    },
    {
     "data": {
      "application/vnd.jupyter.widget-view+json": {
       "model_id": "b86f0dd772f14d6091716ff8287ae914",
       "version_major": 2,
       "version_minor": 0
      },
      "text/plain": [
       "Creating graphs:   0%|          | 0/20 [00:00<?, ?it/s]"
      ]
     },
     "metadata": {},
     "output_type": "display_data"
    },
    {
     "name": "stdout",
     "output_type": "stream",
     "text": [
      "['ApplicationCollaboration' 'ApplicationComponent' 'ApplicationEvent'\n",
      " 'ApplicationFunction' 'ApplicationInteraction' 'ApplicationInterface'\n",
      " 'ApplicationProcess' 'ApplicationService' 'Artifact' 'Assessment'\n",
      " 'BusinessActor' 'BusinessCollaboration' 'BusinessEvent'\n",
      " 'BusinessFunction' 'BusinessInteraction' 'BusinessInterface'\n",
      " 'BusinessObject' 'BusinessProcess' 'BusinessRole' 'BusinessService'\n",
      " 'Capability' 'CommunicationNetwork' 'Constraint' 'Contract'\n",
      " 'CourseOfAction' 'DataObject' 'Deliverable' 'Device'\n",
      " 'DistributionNetwork' 'Driver' 'Equipment' 'Facility' 'Gap' 'Goal'\n",
      " 'Grouping' 'ImplementationEvent' 'Junction' 'Location' 'Material'\n",
      " 'Meaning' 'Node' 'Outcome' 'Path' 'Plateau' 'Principle' 'Product'\n",
      " 'Representation' 'Requirement' 'Resource' 'Stakeholder' 'SystemSoftware'\n",
      " 'TechnologyCollaboration' 'TechnologyEvent' 'TechnologyFunction'\n",
      " 'TechnologyInteraction' 'TechnologyInterface' 'TechnologyProcess'\n",
      " 'TechnologyService' 'Value' 'ValueStream' 'WorkPackage']\n",
      "Setting num_nodes_ type 61\n"
     ]
    },
    {
     "data": {
      "application/vnd.jupyter.widget-view+json": {
       "model_id": "960b8da71353404f998c6ca7108bf92e",
       "version_major": 2,
       "version_minor": 0
      },
      "text/plain": [
       "Validating node classes:   0%|          | 0/20 [00:00<?, ?it/s]"
      ]
     },
     "metadata": {},
     "output_type": "display_data"
    },
    {
     "name": "stdout",
     "output_type": "stream",
     "text": [
      "Train classes: {0, 1, 2, 3, 4, 5, 6, 7, 8, 9, 10, 11, 12, 13, 14, 15, 16, 17, 18, 19, 20, 21, 22, 23, 24, 25, 26, 27, 28, 29, 30, 31, 32, 33, 34, 35, 36, 37, 38, 39, 40, 41, 42, 43, 44, 45, 46, 47, 49, 50, 51, 52, 53, 54, 55, 56, 57, 58, 59, 60}\n",
      "Test classes: {0, 1, 3, 5, 6, 7, 8, 9, 10, 11, 12, 13, 14, 15, 16, 17, 18, 19, 21, 22, 25, 26, 27, 29, 33, 34, 37, 40, 41, 44, 47, 48, 49, 50, 51, 56, 57}\n",
      "Number of classes in training set: 60\n",
      "Number of classes in test set: 37\n",
      "['application' 'business' 'implementation_migration' 'motivation' 'other'\n",
      " 'strategy' 'technology']\n",
      "Setting num_nodes_ layer 7\n"
     ]
    },
    {
     "data": {
      "application/vnd.jupyter.widget-view+json": {
       "model_id": "551e129b93e24019bb720f5d60e17d02",
       "version_major": 2,
       "version_minor": 0
      },
      "text/plain": [
       "Validating node classes:   0%|          | 0/20 [00:00<?, ?it/s]"
      ]
     },
     "metadata": {},
     "output_type": "display_data"
    },
    {
     "name": "stdout",
     "output_type": "stream",
     "text": [
      "Train classes: {0, 1, 2, 3, 4, 5, 6}\n",
      "Test classes: {0, 1, 2, 3, 4, 5, 6}\n",
      "Number of classes in training set: 7\n",
      "Number of classes in test set: 7\n",
      "Edge Classes:  ['Access' 'Aggregation' 'Assignment' 'Association' 'Composition' 'Flow'\n",
      " 'Influence' 'Realization' 'Serving' 'Specialization' 'Triggering']\n",
      "Node label: type\n",
      "Train Node classes: {7: 53, 16: 43, 10: 32, 51: 8, 50: 34, 3: 84, 1: 96, 6: 74, 25: 58, 5: 29, 9: 23, 19: 15, 34: 19, 33: 35, 40: 22, 47: 15, 49: 15, 57: 20, 17: 67, 56: 1, 29: 14, 22: 9, 18: 27, 55: 3, 21: 2, 4: 2, 36: 7, 42: 6, 37: 2, 46: 5, 45: 5, 13: 52, 0: 2, 2: 9, 15: 5, 41: 14, 44: 10, 8: 2, 26: 1, 12: 9, 14: 14, 11: 3, 20: 2, 24: 2, 28: 1, 30: 1, 54: 1, 31: 1, 59: 1, 58: 1, 52: 1, 39: 1, 27: 2, 43: 1, 53: 1, 35: 1, 60: 1, 38: 1, 23: 1, 32: 1}\n",
      "Test Node classes: {7: 7, 10: 12, 16: 12, 51: 1, 11: 3, 6: 21, 25: 12, 3: 27, 1: 25, 57: 3, 50: 14, 40: 8, 34: 3, 18: 11, 19: 6, 29: 4, 47: 4, 17: 13, 49: 4, 9: 7, 0: 2, 33: 5, 13: 15, 5: 6, 15: 2, 44: 2, 41: 3, 22: 2, 8: 2, 27: 1, 14: 7, 12: 1, 21: 1, 37: 1, 56: 1, 48: 1, 26: 1}\n",
      "Node label: layer\n",
      "Train Node classes: {0: 407, 1: 278, 6: 107, 3: 137, 4: 28, 2: 5, 5: 5}\n",
      "Test Node classes: {0: 100, 1: 82, 6: 31, 4: 4, 3: 31, 5: 1, 2: 1}\n",
      "Loaded graph dataset\n"
     ]
    },
    {
     "data": {
      "application/vnd.jupyter.widget-view+json": {
       "model_id": "56bfb16e29884cb297f7b4ef7c4c6eee",
       "version_major": 2,
       "version_minor": 0
      },
      "text/plain": [
       "Getting node classification data:   0%|          | 0/20 [00:00<?, ?it/s]"
      ]
     },
     "metadata": {},
     "output_type": "display_data"
    },
    {
     "name": "stdout",
     "output_type": "stream",
     "text": [
      "Tokenizing data\n",
      "['<node_label>POE <edge_begin>type:Flow<edge_end> <node_label>TESP Power BI\\n<node_label>POE <edge_begin>type:Flow<edge_end> <node_label>PET', '<node_label>Spare Parts Contract', '<node_label>WIN <edge_begin>type:Flow<edge_end> <node_label>PET', '<node_label>Non-disclosure Agreement (NDA)', '<node_label>Letter of Intent (LOI)', '<node_label>Out of Scope: Financial Planning Tool', '<node_label>Memorandum of Understanding (Mo U)', '<node_label>PET <edge_begin>type:Flow<edge_end> <node_label>Lab Ops PTT\\n<node_label>PET <edge_begin>type:Flow<edge_end> <node_label>POE', '<node_label>Client <edge_begin>type:Flow<edge_end> <node_label>WIN', '<node_label>TESP Power BI <edge_begin><edge_end> <node_label>PET']\n",
      "['<node_label>Lab Ops PTT <edge_begin><edge_end> <node_label>TESP Power BI\\n<node_label>Lab Ops PTT <edge_begin>type:Flow<edge_end> <node_label>Out of Scope: Financial Planning Tool', '<node_label>TESP <edge_begin>type:Flow<edge_end> <node_label>PET', '<node_label>Employment Contract', '<node_label>Web Form Custom <edge_begin>type:Serving<edge_end> <node_label>Http Adapter service\\n<node_label>Web Form Custom <edge_begin>type:Serving<edge_end> <node_label>Http Form Service', '<node_label>Web Hook Public Node <edge_begin>type:Serving<edge_end> <node_label>Http Adapter service', '<node_label>General Store <edge_begin>type:Serving<edge_end> <node_label>Core Service', '<node_label>Collaboration', '<node_label>set POSITION=0 <edge_begin>type:Access<edge_end> <node_label>current position', '<node_label>current position', '<node_label>get iterator from aggregate <edge_begin>type:Flow<edge_end> <node_label>next item in iterator']\n",
      "967\n",
      "967\n",
      "250\n",
      "250\n"
     ]
    }
   ],
   "source": [
    "from data_loading.graph_dataset import GraphNodeDataset\n",
    "\n",
    "graph_data_params = dict(\n",
    "    reload=True,\n",
    "    test_ratio=0.2,\n",
    "    distance=1,\n",
    "    random_embed_dim=1,\n",
    "    use_attributes=True,\n",
    "    # use_node_types=True,\n",
    "    use_edge_label=True,\n",
    "    use_edge_types=True,\n",
    "    use_special_tokens=True,\n",
    "    # use_embeddings=True,\n",
    "    # embed_model_name='bert-base-cased',\n",
    "    # ckpt='results/eamodelset/lp/10_att_0_nt_0/checkpoint-177600',\n",
    "    node_cls_label='layer',\n",
    "    limit = 20,\n",
    ")\n",
    "\n",
    "    # graph_data_params = dict(\n",
    "    #     distance=args.distance,\n",
    "    #     reload=args.reload,\n",
    "    #     test_ratio=args.test_ratio,\n",
    "    #     use_attributes=args.use_attributes,\n",
    "    #     use_node_types=args.use_node_types,\n",
    "    #     use_edge_types=args.use_edge_types,\n",
    "    #     use_edge_label=args.use_edge_label,\n",
    "    #     use_special_tokens=args.use_special_tokens,\n",
    "    #     no_labels=args.no_labels,\n",
    "    #     node_cls_label=args.cls_label,\n",
    "    #     use_embeddings=args.use_embeddings,\n",
    "    #     embed_model_name=args.embed_model_name,\n",
    "    #     ckpt=args.ckpt,\n",
    "    # )\n",
    "\n",
    "\n",
    "print(\"Loading graph dataset\")\n",
    "graph_node_dataset = GraphNodeDataset(dataset, **graph_data_params)\n",
    "print(\"Loaded graph dataset\")\n",
    "data = graph_node_dataset.get_node_classification_texts()"
   ]
  },
  {
   "cell_type": "code",
   "execution_count": 20,
   "metadata": {},
   "outputs": [],
   "source": [
    "import networkx as nx\n",
    "\n",
    "G = nx.Graph()\n",
    "G.add_node(1, label='A')\n",
    "G.add_node(2, label='B')\n",
    "G.add_node(3, label='C')\n",
    "G.add_node(4, label='D')\n",
    "G.add_node(5, label='E')\n",
    "G.add_node(6, label='F')\n",
    "\n",
    "G.add_edge(1, 2, label='1')\n",
    "G.add_edge(1, 3, label='2')\n",
    "G.add_edge(1, 6, label='5')\n",
    "G.add_edge(2, 3, label='6')\n",
    "G.add_edge(2, 5, label='8')\n",
    "G.add_edge(2, 6, label='9')\n",
    "G.add_edge(3, 4, label='10')\n",
    "G.add_edge(3, 5, label='11')\n",
    "G.add_edge(4, 5, label='13')\n",
    "G.add_edge(4, 6, label='14')\n",
    "G.add_edge(5, 6, label='15')\n"
   ]
  },
  {
   "cell_type": "code",
   "execution_count": 21,
   "metadata": {},
   "outputs": [
    {
     "name": "stdout",
     "output_type": "stream",
     "text": [
      "[6, 3, 5, 4] [1, 2]\n"
     ]
    },
    {
     "data": {
      "text/plain": [
       "NodeDataView({1: {'label': 'A', 'masked': 1}, 2: {'label': 'B', 'masked': 1}, 3: {'label': 'C', 'masked': 0}, 4: {'label': 'D', 'masked': 0}, 5: {'label': 'E', 'masked': 0}, 6: {'label': 'F', 'masked': 0}})"
      ]
     },
     "execution_count": 21,
     "metadata": {},
     "output_type": "execute_result"
    }
   ],
   "source": [
    "from sklearn.model_selection import train_test_split\n",
    "\n",
    "\n",
    "train_nodes, test_nodes = train_test_split(\n",
    "\tlist(G.nodes), \n",
    "\ttest_size=0.2, \n",
    "\tshuffle=True, \n",
    "\trandom_state=42\n",
    ")\n",
    "\n",
    "print(train_nodes, test_nodes)\n",
    "nx.set_node_attributes(G, {node: 0 for node in train_nodes}, 'masked')\n",
    "nx.set_node_attributes(G, {node: 1 for node in test_nodes}, 'masked')\n",
    "G.nodes(data=True)"
   ]
  },
  {
   "cell_type": "code",
   "execution_count": 22,
   "metadata": {},
   "outputs": [
    {
     "data": {
      "text/plain": [
       "EdgeDataView([(1, 2, {'label': '1', 'masked': False}), (1, 3, {'label': '2', 'masked': False}), (1, 6, {'label': '5', 'masked': False}), (2, 3, {'label': '6', 'masked': False}), (2, 5, {'label': '8', 'masked': False}), (2, 6, {'label': '9', 'masked': True}), (3, 4, {'label': '10', 'masked': False}), (3, 5, {'label': '11', 'masked': True}), (4, 5, {'label': '13', 'masked': False}), (4, 6, {'label': '14', 'masked': False}), (5, 6, {'label': '15', 'masked': False})])"
      ]
     },
     "execution_count": 22,
     "metadata": {},
     "output_type": "execute_result"
    }
   ],
   "source": [
    "from torch_geometric.transforms import RandomLinkSplit\n",
    "import torch\n",
    "from data_loading.data import GraphData\n",
    "import numpy as np\n",
    "\n",
    "edge_index = np.array(G.edges()).T\n",
    "transform = RandomLinkSplit(\n",
    "\tnum_val=0, \n",
    "\tnum_test=0.2, \n",
    "\tadd_negative_train_samples=True,\n",
    "\tneg_sampling_ratio=1,\n",
    "\tsplit_labels=True\n",
    ")\n",
    "\n",
    "train_data, _, test_data = transform(GraphData(\n",
    "\tedge_index=torch.tensor(edge_index), \n",
    "\tnum_nodes=G.number_of_nodes()\n",
    "))\n",
    "nx.set_edge_attributes(G, {tuple(edge): False for edge in train_data.pos_edge_label_index.T.tolist()}, 'masked')\n",
    "nx.set_edge_attributes(G, {tuple(edge): True for edge in test_data.pos_edge_label_index.T.tolist()}, 'masked')\n",
    "G.edges(data=True)"
   ]
  },
  {
   "cell_type": "code",
   "execution_count": null,
   "metadata": {},
   "outputs": [],
   "source": []
  }
 ],
 "metadata": {
  "kernelspec": {
   "display_name": "ML",
   "language": "python",
   "name": "python3"
  },
  "language_info": {
   "codemirror_mode": {
    "name": "ipython",
    "version": 3
   },
   "file_extension": ".py",
   "mimetype": "text/x-python",
   "name": "python",
   "nbconvert_exporter": "python",
   "pygments_lexer": "ipython3",
   "version": "3.10.14"
  }
 },
 "nbformat": 4,
 "nbformat_minor": 2
}
