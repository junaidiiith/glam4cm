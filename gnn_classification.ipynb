{
 "cells": [
  {
   "cell_type": "markdown",
   "metadata": {},
   "source": [
    "#### Dataset Creation"
   ]
  },
  {
   "cell_type": "code",
   "execution_count": 1,
   "metadata": {},
   "outputs": [],
   "source": [
    "import random\n",
    "import torch\n",
    "import numpy as np\n",
    "\n",
    "seed = 42\n",
    "random.seed(seed)\n",
    "np.random.seed(seed)\n",
    "torch.manual_seed(seed)\n",
    "torch.cuda.manual_seed(seed)"
   ]
  },
  {
   "cell_type": "code",
   "execution_count": 2,
   "metadata": {},
   "outputs": [
    {
     "name": "stdout",
     "output_type": "stream",
     "text": [
      "Loading ecore_555 from pickle\n",
      "Loaded ecore_555 with 282 graphs\n",
      "Loaded ecore_555 with 282 graphs\n",
      "Graphs: 282\n"
     ]
    },
    {
     "data": {
      "application/vnd.jupyter.widget-view+json": {
       "model_id": "1e78ae5eb4db4cdd80680674f4eeedfb",
       "version_major": 2,
       "version_minor": 0
      },
      "text/plain": [
       "Loading Eamodelset:   0%|          | 0/979 [00:00<?, ?it/s]"
      ]
     },
     "metadata": {},
     "output_type": "display_data"
    },
    {
     "name": "stdout",
     "output_type": "stream",
     "text": [
      "Saving eamodelset to pickle\n",
      "Saved eamodelset to pickle\n",
      "Loaded eamodelset with 936 graphs\n",
      "Graphs: 936\n"
     ]
    }
   ],
   "source": [
    "from data_loading.models_dataset import EcoreModelDataset\n",
    "from data_loading.models_dataset import ArchiMateModelDataset\n",
    "\n",
    "config_params = dict(\n",
    "    timeout = 120,\n",
    "    min_edges = 10\n",
    ")\n",
    "ecore_model_dataset = EcoreModelDataset('ecore_555', reload=False, **config_params)\n",
    "archimate_model_dataset = ArchiMateModelDataset('eamodelset', reload=True, **config_params)\n",
    "# dataset = EcoreModelDataset('modelset', reload=False, remove_duplicates=True, **config_params)\n",
    "# dataset = EcoreModelDataset('mar-ecore-github', reload=True, **config_params)"
   ]
  },
  {
   "cell_type": "code",
   "execution_count": 3,
   "metadata": {},
   "outputs": [
    {
     "data": {
      "application/vnd.jupyter.widget-view+json": {
       "model_id": "d5cef8e7e4d345f0ba988822aad20d93",
       "version_major": 2,
       "version_minor": 0
      },
      "text/plain": [
       "Creating graphs:   0%|          | 0/282 [00:00<?, ?it/s]"
      ]
     },
     "metadata": {},
     "output_type": "display_data"
    },
    {
     "data": {
      "application/vnd.jupyter.widget-view+json": {
       "model_id": "266c09290cc34c229937b0b39ddcfcd1",
       "version_major": 2,
       "version_minor": 0
      },
      "text/plain": [
       "Processing graphs:   0%|          | 0/282 [00:00<?, ?it/s]"
      ]
     },
     "metadata": {},
     "output_type": "display_data"
    },
    {
     "name": "stdout",
     "output_type": "stream",
     "text": [
      "Train edge classes: {0: 19479, 2: 3193, 1: 3696}\n",
      "Test edge classes: {0: 4812, 2: 760, 1: 881}\n"
     ]
    },
    {
     "data": {
      "application/vnd.jupyter.widget-view+json": {
       "model_id": "68583b6d241c42538dc2122ee64aefdf",
       "version_major": 2,
       "version_minor": 0
      },
      "text/plain": [
       "Creating graphs:   0%|          | 0/282 [00:00<?, ?it/s]"
      ]
     },
     "metadata": {},
     "output_type": "display_data"
    },
    {
     "data": {
      "application/vnd.jupyter.widget-view+json": {
       "model_id": "07f4d31e3eaf438f869fd02a32eed086",
       "version_major": 2,
       "version_minor": 0
      },
      "text/plain": [
       "Processing graphs:   0%|          | 0/282 [00:00<?, ?it/s]"
      ]
     },
     "metadata": {},
     "output_type": "display_data"
    },
    {
     "name": "stdout",
     "output_type": "stream",
     "text": [
      "Node label: abstract\n",
      "Train Node classes: {1: 2212, 0: 7127}\n",
      "Test Node classes: {0: 1890, 1: 594}\n"
     ]
    }
   ],
   "source": [
    "from data_loading.graph_dataset import GraphEdgeDataset, GraphNodeDataset\n",
    "\n",
    "ecore_graph_edge_dataset = GraphEdgeDataset(\n",
    "    ecore_model_dataset,\n",
    "    use_attributes=True,\n",
    "    use_edge_types=True,\n",
    "    reload=True,\n",
    ")\n",
    "\n",
    "ecore_graph_node_dataset = GraphNodeDataset(\n",
    "    ecore_model_dataset,\n",
    "    use_attributes=True,\n",
    "    reload=True,\n",
    ")"
   ]
  },
  {
   "cell_type": "code",
   "execution_count": 4,
   "metadata": {},
   "outputs": [
    {
     "data": {
      "application/vnd.jupyter.widget-view+json": {
       "model_id": "8ca2540af7a649bc98253a860c16b420",
       "version_major": 2,
       "version_minor": 0
      },
      "text/plain": [
       "Creating graphs:   0%|          | 0/936 [00:00<?, ?it/s]"
      ]
     },
     "metadata": {},
     "output_type": "display_data"
    },
    {
     "data": {
      "application/vnd.jupyter.widget-view+json": {
       "model_id": "315770d3ef8f4869b266033e85d91780",
       "version_major": 2,
       "version_minor": 0
      },
      "text/plain": [
       "Processing graphs:   0%|          | 0/936 [00:00<?, ?it/s]"
      ]
     },
     "metadata": {},
     "output_type": "display_data"
    },
    {
     "name": "stdout",
     "output_type": "stream",
     "text": [
      "Train edge classes: {7: 9421, 2: 13034, 10: 10833, 9: 7781, 0: 9578, 3: 8365, 4: 15936, 8: 21158, 6: 2383, 1: 6210, 5: 2341}\n",
      "Test edge classes: {9: 1958, 3: 1972, 4: 3873, 8: 5192, 10: 2689, 0: 2386, 7: 2360, 2: 3187, 6: 583, 1: 1536, 5: 546}\n"
     ]
    },
    {
     "data": {
      "application/vnd.jupyter.widget-view+json": {
       "model_id": "8d4732d221424f578ef71b0dc80c44ed",
       "version_major": 2,
       "version_minor": 0
      },
      "text/plain": [
       "Creating graphs:   0%|          | 0/936 [00:00<?, ?it/s]"
      ]
     },
     "metadata": {},
     "output_type": "display_data"
    },
    {
     "data": {
      "application/vnd.jupyter.widget-view+json": {
       "model_id": "8c6ea161332641ffa4dd939fbe766cd1",
       "version_major": 2,
       "version_minor": 0
      },
      "text/plain": [
       "Processing graphs:   0%|          | 0/936 [00:00<?, ?it/s]"
      ]
     },
     "metadata": {},
     "output_type": "display_data"
    },
    {
     "name": "stdout",
     "output_type": "stream",
     "text": [
      "Node label: type\n",
      "Train Node classes: {51: 1816, 58: 1223, 41: 4102, 40: 3022, 2: 2689, 56: 3530, 43: 3040, 32: 7002, 10: 5288, 44: 1541, 6: 7069, 27: 834, 31: 432, 63: 2943, 16: 2256, 30: 252, 24: 854, 1: 414, 3: 2009, 57: 168, 17: 368, 47: 4016, 46: 374, 36: 3480, 28: 307, 13: 1735, 22: 1369, 45: 171, 52: 179, 53: 207, 23: 925, 8: 674, 14: 415, 29: 1156, 11: 501, 37: 597, 50: 995, 25: 1141, 20: 490, 4: 1550, 38: 957, 18: 2156, 9: 365, 62: 180, 42: 871, 33: 370, 39: 2754, 60: 252, 12: 258, 54: 768, 48: 110, 15: 126, 5: 50, 49: 145, 59: 33, 26: 250, 19: 63, 21: 206, 0: 323, 34: 49, 35: 67, 7: 79, 55: 90, 61: 127}\n",
      "Test Node classes: {19: 17, 2: 699, 6: 1965, 32: 1760, 56: 1014, 63: 736, 44: 377, 51: 484, 58: 322, 41: 1001, 10: 1401, 31: 128, 40: 830, 47: 931, 13: 430, 36: 866, 45: 38, 39: 728, 23: 207, 8: 171, 27: 210, 17: 98, 37: 131, 25: 253, 11: 113, 0: 90, 22: 313, 3: 465, 43: 833, 50: 238, 18: 533, 38: 229, 28: 80, 4: 406, 20: 126, 14: 108, 33: 110, 29: 293, 16: 614, 42: 213, 9: 85, 24: 228, 12: 67, 48: 28, 21: 49, 1: 88, 57: 27, 53: 40, 52: 56, 5: 13, 55: 26, 26: 64, 30: 56, 54: 168, 46: 85, 62: 48, 34: 9, 60: 55, 15: 35, 49: 28, 59: 9, 35: 16, 61: 37, 7: 20}\n",
      "Node label: layer\n",
      "Train Node classes: {0: 9292, 7: 30667, 1: 22737, 3: 3992, 2: 1262, 5: 9564, 6: 4142, 4: 127}\n",
      "Test Node classes: {0: 2278, 7: 8255, 1: 5578, 6: 1070, 5: 2291, 2: 304, 3: 1085, 4: 37}\n"
     ]
    }
   ],
   "source": [
    "from data_loading.graph_dataset import GraphEdgeDataset, GraphNodeDataset\n",
    "\n",
    "ecore_graph_edge_dataset = GraphEdgeDataset(\n",
    "    archimate_model_dataset,\n",
    "    use_edge_types=True,\n",
    "    reload=True,\n",
    ")\n",
    "\n",
    "ecore_graph_node_dataset = GraphNodeDataset(\n",
    "    archimate_model_dataset,\n",
    "    use_attributes=True,\n",
    "    reload=True,\n",
    ")"
   ]
  }
 ],
 "metadata": {
  "kernelspec": {
   "display_name": "VE",
   "language": "python",
   "name": "python3"
  },
  "language_info": {
   "codemirror_mode": {
    "name": "ipython",
    "version": 3
   },
   "file_extension": ".py",
   "mimetype": "text/x-python",
   "name": "python",
   "nbconvert_exporter": "python",
   "pygments_lexer": "ipython3",
   "version": "3.10.14"
  }
 },
 "nbformat": 4,
 "nbformat_minor": 2
}
